{
 "cells": [
  {
   "cell_type": "code",
   "execution_count": 10,
   "metadata": {},
   "outputs": [
    {
     "name": "stdout",
     "output_type": "stream",
     "text": [
      "338350\n",
      "25502500\n",
      "25164150\n",
      "25164150\n"
     ]
    }
   ],
   "source": [
    "#6\n",
    "# The sum of the squares of the first ten natural numbers is,\n",
    "\n",
    "# 1^2 + 2^2 + ... + 10^2 = 385\n",
    "# The square of the sum of the first ten natural numbers is,\n",
    "\n",
    "# (1 + 2 + ... + 10)2 = 552 = 3025\n",
    "# Hence the difference between the sum of the squares of the first ten \n",
    "# natural numbers and the square of the sum is 3025 − 385 = 2640.\n",
    "\n",
    "# Find the difference between the sum of the squares of the first one\n",
    "# hundred natural numbers and the square of the sum.\n",
    "\n",
    "def num6():\n",
    "    sum1 = 0\n",
    "    sum2 = 0\n",
    "    for i in range(1, 101):\n",
    "        sum1 += i*i\n",
    "        sum2 += i\n",
    "    sum2 = sum2*sum2\n",
    "    print (sum1)\n",
    "    print (sum2)\n",
    "    print (sum2 - sum1)\n",
    "num6()"
   ]
  },
  {
   "cell_type": "code",
   "execution_count": null,
   "metadata": {},
   "outputs": [],
   "source": []
  },
  {
   "cell_type": "code",
   "execution_count": null,
   "metadata": {},
   "outputs": [],
   "source": []
  }
 ],
 "metadata": {
  "kernelspec": {
   "display_name": "Python 3",
   "language": "python",
   "name": "python3"
  },
  "language_info": {
   "codemirror_mode": {
    "name": "ipython",
    "version": 3
   },
   "file_extension": ".py",
   "mimetype": "text/x-python",
   "name": "python",
   "nbconvert_exporter": "python",
   "pygments_lexer": "ipython3",
   "version": "3.6.5"
  }
 },
 "nbformat": 4,
 "nbformat_minor": 2
}
